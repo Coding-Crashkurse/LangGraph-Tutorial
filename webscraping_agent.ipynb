{
 "cells": [
  {
   "cell_type": "code",
   "execution_count": null,
   "metadata": {},
   "outputs": [],
   "source": [
    "from typing import Annotated\n",
    "from langchain_core.tools import tool\n",
    "from langchain_community.document_loaders import AsyncChromiumLoader\n",
    "from langchain_community.document_transformers import BeautifulSoupTransformer\n",
    "import asyncio\n",
    "\n",
    "@tool\n",
    "def web_scraper(\n",
    "    url: Annotated[str, \"URL to scrape\"]\n",
    "):\n",
    "    \"\"\"Use this to scrape content from a webpage. Provide the URL to scrape.\"\"\"\n",
    "\n",
    "    async def scrape(url):\n",
    "        try:\n",
    "            loader = AsyncChromiumLoader([url])\n",
    "            html = await loader.load()\n",
    "\n",
    "            transformer = BeautifulSoupTransformer()\n",
    "            text = transformer.transform(html)\n",
    "\n",
    "            return text\n",
    "        except Exception as e:\n",
    "            return f\"Failed to scrape. Error: {repr(e)}\"\n",
    "\n",
    "    result = asyncio.run(scrape(url))\n",
    "    return f\"Scraped content from {url}:\\n\\n{result}\"\n"
   ]
  }
 ],
 "metadata": {
  "kernelspec": {
   "display_name": "app",
   "language": "python",
   "name": "python3"
  },
  "language_info": {
   "name": "python",
   "version": "3.11.0"
  }
 },
 "nbformat": 4,
 "nbformat_minor": 2
}
