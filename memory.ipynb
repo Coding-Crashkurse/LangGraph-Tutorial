{
 "cells": [
  {
   "cell_type": "code",
   "execution_count": null,
   "metadata": {},
   "outputs": [],
   "source": [
    "from dotenv import load_dotenv\n",
    "\n",
    "load_dotenv()"
   ]
  },
  {
   "cell_type": "code",
   "execution_count": null,
   "metadata": {},
   "outputs": [],
   "source": [
    "from langmem import create_memory_manager\n",
    "from pydantic import BaseModel\n",
    "from langchain_openai.chat_models import ChatOpenAI\n",
    "\n",
    "llm = ChatOpenAI(model=\"gpt-4o-mini\", temperature=0)\n",
    "\n",
    "class Person(BaseModel):\n",
    "    \"\"\"Store a person's name, role, and preferences.\"\"\"\n",
    "    name: str\n",
    "    role: str\n",
    "    preferences: list[str] | None = None\n",
    "\n",
    "\n",
    "manager = create_memory_manager(\n",
    "    llm,\n",
    "    schemas=[Person],\n",
    "    instructions=\"Extract people's names, roles, and any mentioned preferences.\",\n",
    "    enable_inserts=True,\n",
    "    enable_updates=True,\n",
    "    enable_deletes=True,\n",
    ")"
   ]
  },
  {
   "cell_type": "code",
   "execution_count": null,
   "metadata": {},
   "outputs": [],
   "source": [
    "conversation = [\n",
    "    {\n",
    "        \"role\": \"user\",\n",
    "        \"content\": (\n",
    "            \"John is a senior developer who loves coffee. \"\n",
    "            \"Alice is a junior developer who hates coffee.\"\n",
    "        )\n",
    "    }\n",
    "]\n",
    "memories = manager.invoke({\"messages\": conversation})\n",
    "print(memories)"
   ]
  },
  {
   "cell_type": "code",
   "execution_count": null,
   "metadata": {},
   "outputs": [],
   "source": [
    "try:\n",
    "    conversation_no_extraction = [\n",
    "        {\n",
    "            \"role\": \"user\",\n",
    "            \"content\": (\n",
    "                \"Today it rained for two hours, and then the sun came out.\"\n",
    "            )\n",
    "        }\n",
    "    ]\n",
    "\n",
    "    memories_no_extraction = manager.invoke({\"messages\": conversation_no_extraction})\n",
    "    print(memories_no_extraction)\n",
    "except Exception as e:\n",
    "    print(e)"
   ]
  },
  {
   "cell_type": "code",
   "execution_count": null,
   "metadata": {},
   "outputs": [],
   "source": [
    "from langmem import create_memory_store_manager\n",
    "\n",
    "namespace=(\"memories\",)\n",
    "\n",
    "memory_manager = create_memory_store_manager(\n",
    "    llm,\n",
    "    namespace=namespace,\n",
    "    instructions=\"Only save information related about food the user likes\"\n",
    ")\n",
    "try:\n",
    "    memory_manager.invoke({\"messages\": [\"I like dogs. My dog's name is Fido.\"]})\n",
    "except Exception as e:\n",
    "    print(\"Exception:\", e)"
   ]
  },
  {
   "cell_type": "code",
   "execution_count": null,
   "metadata": {},
   "outputs": [],
   "source": [
    "from langmem import ReflectionExecutor\n",
    "\n",
    "executor = ReflectionExecutor(memory_manager)"
   ]
  },
  {
   "cell_type": "code",
   "execution_count": null,
   "metadata": {},
   "outputs": [],
   "source": [
    "from langgraph.store.memory import InMemoryStore\n",
    "from langgraph.func import entrypoint\n",
    "\n",
    "store = InMemoryStore(\n",
    "    index={\n",
    "        \"dims\": 1536,\n",
    "        \"embed\": \"openai:text-embedding-3-small\",\n",
    "    }\n",
    ")\n",
    "\n",
    "@entrypoint(store=store)\n",
    "async def chat(message: str):\n",
    "    response = llm.invoke(message)\n",
    "\n",
    "    to_process = {\"messages\": [{\"role\": \"user\", \"content\": message}] + [response]}\n",
    "    await memory_manager.ainvoke(to_process)\n",
    "    # executor.submit(to_process, after_seconds=1)\n",
    "    return response.content"
   ]
  },
  {
   "cell_type": "code",
   "execution_count": null,
   "metadata": {},
   "outputs": [],
   "source": [
    "response = await chat.ainvoke(\n",
    "    \"I like to eat Pizza\",\n",
    ")"
   ]
  },
  {
   "cell_type": "code",
   "execution_count": null,
   "metadata": {},
   "outputs": [],
   "source": [
    "try:\n",
    "    response = await chat.ainvoke(\n",
    "        \"I like dogs. My dog's name is Fido.\",\n",
    "    )\n",
    "except Exception as e:\n",
    "    print(\"Exception:\", e)"
   ]
  },
  {
   "cell_type": "code",
   "execution_count": null,
   "metadata": {},
   "outputs": [],
   "source": [
    "store.search(namespace)"
   ]
  },
  {
   "cell_type": "markdown",
   "metadata": {},
   "source": [
    "### Better approach - Tools!"
   ]
  },
  {
   "cell_type": "code",
   "execution_count": null,
   "metadata": {},
   "outputs": [],
   "source": [
    "from langgraph.store.memory import InMemoryStore\n",
    "from langgraph.prebuilt import create_react_agent\n",
    "from langmem import create_manage_memory_tool, create_search_memory_tool\n",
    "\n",
    "\n",
    "store = InMemoryStore(\n",
    "    index={\n",
    "        \"dims\": 1536,\n",
    "        \"embed\": \"openai:text-embedding-3-small\",\n",
    "    }\n",
    ")\n"
   ]
  },
  {
   "cell_type": "code",
   "execution_count": null,
   "metadata": {},
   "outputs": [],
   "source": [
    "llm = ChatOpenAI(model=\"gpt-4o-mini\", temperature=0)\n",
    "\n",
    "tools=[\n",
    "    create_manage_memory_tool(namespace=(\"memories\", \"{user_id}\"), store=store),\n",
    "    create_search_memory_tool(namespace=(\"memories\", \"{user_id}\"), store=store),\n",
    "]"
   ]
  },
  {
   "cell_type": "code",
   "execution_count": null,
   "metadata": {},
   "outputs": [],
   "source": [
    "app = create_react_agent(llm, tools=tools)"
   ]
  },
  {
   "cell_type": "code",
   "execution_count": null,
   "metadata": {},
   "outputs": [],
   "source": [
    "app.invoke({\"messages\": [{\"role\": \"user\", \"content\": \"hi!\"}]}, config={\"configurable\": {\"user_id\": \"alice\"}})"
   ]
  },
  {
   "cell_type": "code",
   "execution_count": null,
   "metadata": {},
   "outputs": [],
   "source": [
    "app.invoke({\"messages\": [{\"role\": \"user\", \"content\": \"what do you know about me?\"}]}, config={\"configurable\": {\"user_id\": \"alice\"}})"
   ]
  },
  {
   "cell_type": "code",
   "execution_count": null,
   "metadata": {},
   "outputs": [],
   "source": [
    "app.invoke({\"messages\": [{\"role\": \"user\", \"content\": \"I love spaghetti\"}]}, config={\"configurable\": {\"user_id\": \"alice\"}})"
   ]
  },
  {
   "cell_type": "code",
   "execution_count": null,
   "metadata": {},
   "outputs": [],
   "source": [
    "app.invoke({\"messages\": [{\"role\": \"user\", \"content\": \"what do you know about me?\"}]}, config={\"configurable\": {\"user_id\": \"alice\"}})"
   ]
  },
  {
   "cell_type": "code",
   "execution_count": null,
   "metadata": {},
   "outputs": [],
   "source": [
    "app.invoke({\"messages\": [{\"role\": \"user\", \"content\": \"what do you know about me?\"}]}, config={\"configurable\": {\"user_id\": \"max\"}})"
   ]
  },
  {
   "cell_type": "markdown",
   "metadata": {},
   "source": [
    "### Prededual Memory: System Instructions"
   ]
  },
  {
   "cell_type": "code",
   "execution_count": 22,
   "metadata": {},
   "outputs": [],
   "source": [
    "from langmem import create_prompt_optimizer\n",
    "\n",
    "optimizer = create_prompt_optimizer(\n",
    "    llm,\n",
    "    kind=\"metaprompt\",\n",
    "    config={\"max_reflection_steps\": 3}\n",
    ")"
   ]
  },
  {
   "cell_type": "code",
   "execution_count": 23,
   "metadata": {},
   "outputs": [
    {
     "name": "stdout",
     "output_type": "stream",
     "text": [
      "You are a helpful assistant. When asked for explanations, prioritize providing practical examples, especially in programming contexts like Python. If the user requests an explanation, confirm whether they prefer a theoretical overview or a practical example.\n"
     ]
    }
   ],
   "source": [
    "prompt = \"You are a helpful assistant.\"\n",
    "trajectory = [\n",
    "    {\"role\": \"user\", \"content\": \"Explain inheritance in Python\"},\n",
    "    {\"role\": \"assistant\", \"content\": \"Here's a detailed theoretical explanation...\"},\n",
    "    {\"role\": \"user\", \"content\": \"Show me a practical example instead\"},\n",
    "]\n",
    "optimized = optimizer.invoke({\n",
    "    \"trajectories\": [(trajectory, {\"user_score\": 0})],\n",
    "    \"prompt\": prompt\n",
    "})\n",
    "print(optimized)"
   ]
  }
 ],
 "metadata": {
  "kernelspec": {
   "display_name": ".venv",
   "language": "python",
   "name": "python3"
  },
  "language_info": {
   "codemirror_mode": {
    "name": "ipython",
    "version": 3
   },
   "file_extension": ".py",
   "mimetype": "text/x-python",
   "name": "python",
   "nbconvert_exporter": "python",
   "pygments_lexer": "ipython3",
   "version": "3.11.0"
  }
 },
 "nbformat": 4,
 "nbformat_minor": 2
}
