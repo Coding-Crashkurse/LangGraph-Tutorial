{
 "cells": [
  {
   "cell_type": "code",
   "execution_count": 26,
   "metadata": {},
   "outputs": [
    {
     "data": {
      "text/plain": [
       "True"
      ]
     },
     "execution_count": 26,
     "metadata": {},
     "output_type": "execute_result"
    }
   ],
   "source": [
    "from dotenv import load_dotenv\n",
    "\n",
    "load_dotenv()"
   ]
  },
  {
   "cell_type": "code",
   "execution_count": 27,
   "metadata": {},
   "outputs": [],
   "source": [
    "import os\n",
    "from typing import Literal\n",
    "\n",
    "# Make sure to install the needed packages:\n",
    "# pip install langgraph langgraph-supervisor langchain-openai\n",
    "\n",
    "from dotenv import load_dotenv\n",
    "load_dotenv()\n",
    "\n",
    "from langchain_openai import ChatOpenAI\n",
    "from langchain_core.tools import tool\n",
    "from langchain_core.messages import HumanMessage\n",
    "from langgraph.graph import END, START, StateGraph, MessagesState\n",
    "from langgraph.graph.state import CompiledStateGraph\n",
    "from langgraph.prebuilt import ToolNode\n",
    "\n",
    "# --- Weather tool ---\n",
    "@tool\n",
    "def get_weather(location: str):\n",
    "    \"\"\"Call to get the current weather.\"\"\"\n",
    "    if location.lower() in [\"munich\"]:\n",
    "        return \"It's 15 degrees Celsius and cloudy.\"\n",
    "    else:\n",
    "        return \"It's 32 degrees Celsius and sunny.\"\n",
    "\n",
    "# We'll create a model and bind the tool so the LLM knows it can call `get_weather`.\n",
    "tools = [get_weather]\n",
    "model = ChatOpenAI(model=\"gpt-4o-mini\").bind_tools(tools)\n",
    "\n",
    "# --- Existing agent workflow definition ---\n",
    "def call_model(state: MessagesState):\n",
    "    \"\"\"Call the LLM with the conversation so far.\"\"\"\n",
    "    messages = state[\"messages\"]\n",
    "    response = model.invoke(messages)\n",
    "    return {\"messages\": [response]}\n",
    "\n",
    "def should_continue(state: MessagesState) -> Literal[\"tools\", END]:\n",
    "    \"\"\"If there's a tool call requested, go to 'tools', else end.\"\"\"\n",
    "    messages = state[\"messages\"]\n",
    "    last_message = messages[-1]\n",
    "    if last_message.tool_calls:\n",
    "        return \"tools\"\n",
    "    return END\n",
    "\n",
    "weather_workflow = StateGraph(MessagesState)\n",
    "\n",
    "tool_node = ToolNode(tools)\n",
    "\n",
    "weather_workflow.add_node(\"agent\", call_model)\n",
    "weather_workflow.add_node(\"tools\", tool_node)\n",
    "\n",
    "weather_workflow.add_edge(START, \"agent\")\n",
    "weather_workflow.add_conditional_edges(\"agent\", should_continue)\n",
    "weather_workflow.add_edge(\"tools\", \"agent\")\n",
    "\n",
    "weather_agent_graph =  weather_workflow.compile(name=\"weather_agent\")"
   ]
  },
  {
   "cell_type": "code",
   "execution_count": 28,
   "metadata": {},
   "outputs": [],
   "source": [
    "from langgraph_supervisor import create_supervisor\n",
    "\n",
    "supervisor_workflow = create_supervisor(\n",
    "    agents=[weather_agent_graph],\n",
    "    model=model,\n",
    "    prompt=(\n",
    "        \"You are a supervisor managing a weather agent. \"\n",
    "        \"For any weather-related question, call the 'weather_agent' to handle it.\"\n",
    "    ),\n",
    "    # output_mode=\"last_message\",\n",
    "    output_mode=\"full_history\",\n",
    "    supervisor_name=\"supervisor_agent\",\n",
    ")\n",
    "\n",
    "supervisor_app = supervisor_workflow.compile()\n"
   ]
  },
  {
   "cell_type": "code",
   "execution_count": 29,
   "metadata": {},
   "outputs": [
    {
     "data": {
      "text/plain": [
       "{'messages': [HumanMessage(content='Hello there, how are you?', additional_kwargs={}, response_metadata={}, id='a1cb2c04-7f46-4123-8308-3fb62c0f7621'),\n",
       "  AIMessage(content=\"I'm just a program, so I don't have feelings, but I'm here and ready to help you! What can I assist you with today?\", additional_kwargs={'refusal': None}, response_metadata={'token_usage': {'completion_tokens': 30, 'prompt_tokens': 71, 'total_tokens': 101, 'completion_tokens_details': {'accepted_prediction_tokens': 0, 'audio_tokens': 0, 'reasoning_tokens': 0, 'rejected_prediction_tokens': 0}, 'prompt_tokens_details': {'audio_tokens': 0, 'cached_tokens': 0}}, 'model_name': 'gpt-4o-mini-2024-07-18', 'system_fingerprint': 'fp_72ed7ab54c', 'finish_reason': 'stop', 'logprobs': None}, name='supervisor_agent', id='run-51f280bd-2c17-4560-b392-ce40ff49e229-0', usage_metadata={'input_tokens': 71, 'output_tokens': 30, 'total_tokens': 101, 'input_token_details': {'audio': 0, 'cache_read': 0}, 'output_token_details': {'audio': 0, 'reasoning': 0}})]}"
      ]
     },
     "execution_count": 29,
     "metadata": {},
     "output_type": "execute_result"
    }
   ],
   "source": [
    "supervisor_app.invoke(\n",
    "    {\"messages\": [HumanMessage(content=\"Hello there, how are you?\")]}\n",
    ")"
   ]
  },
  {
   "cell_type": "code",
   "execution_count": 30,
   "metadata": {},
   "outputs": [
    {
     "data": {
      "text/plain": [
       "{'messages': [HumanMessage(content='How is the weather in Munich?', additional_kwargs={}, response_metadata={}, id='26a00b03-31f4-4303-a754-ea856338330a'),\n",
       "  AIMessage(content='', additional_kwargs={'tool_calls': [{'id': 'call_dJL5BsZsqspsESQG5pJhWMRW', 'function': {'arguments': '{}', 'name': 'transfer_to_weather_agent'}, 'type': 'function'}], 'refusal': None}, response_metadata={'token_usage': {'completion_tokens': 13, 'prompt_tokens': 71, 'total_tokens': 84, 'completion_tokens_details': {'accepted_prediction_tokens': 0, 'audio_tokens': 0, 'reasoning_tokens': 0, 'rejected_prediction_tokens': 0}, 'prompt_tokens_details': {'audio_tokens': 0, 'cached_tokens': 0}}, 'model_name': 'gpt-4o-mini-2024-07-18', 'system_fingerprint': 'fp_bd83329f63', 'finish_reason': 'tool_calls', 'logprobs': None}, name='supervisor_agent', id='run-ec7d8b7e-eebd-4adb-94a8-2d21589f988e-0', tool_calls=[{'name': 'transfer_to_weather_agent', 'args': {}, 'id': 'call_dJL5BsZsqspsESQG5pJhWMRW', 'type': 'tool_call'}], usage_metadata={'input_tokens': 71, 'output_tokens': 13, 'total_tokens': 84, 'input_token_details': {'audio': 0, 'cache_read': 0}, 'output_token_details': {'audio': 0, 'reasoning': 0}}),\n",
       "  ToolMessage(content='Successfully transferred to weather_agent', name='transfer_to_weather_agent', id='bdaa8615-1e25-4ad0-af8e-6dc185d71bf2', tool_call_id='call_dJL5BsZsqspsESQG5pJhWMRW'),\n",
       "  AIMessage(content='', additional_kwargs={'tool_calls': [{'id': 'call_8P9IuuwkIhpp8He3w314HnDB', 'function': {'arguments': '{\"location\":\"Munich\"}', 'name': 'get_weather'}, 'type': 'function'}], 'refusal': None}, response_metadata={'token_usage': {'completion_tokens': 16, 'prompt_tokens': 82, 'total_tokens': 98, 'completion_tokens_details': {'accepted_prediction_tokens': 0, 'audio_tokens': 0, 'reasoning_tokens': 0, 'rejected_prediction_tokens': 0}, 'prompt_tokens_details': {'audio_tokens': 0, 'cached_tokens': 0}}, 'model_name': 'gpt-4o-mini-2024-07-18', 'system_fingerprint': 'fp_72ed7ab54c', 'finish_reason': 'tool_calls', 'logprobs': None}, id='run-27c6b079-7347-489b-a084-606a7f516a79-0', tool_calls=[{'name': 'get_weather', 'args': {'location': 'Munich'}, 'id': 'call_8P9IuuwkIhpp8He3w314HnDB', 'type': 'tool_call'}], usage_metadata={'input_tokens': 82, 'output_tokens': 16, 'total_tokens': 98, 'input_token_details': {'audio': 0, 'cache_read': 0}, 'output_token_details': {'audio': 0, 'reasoning': 0}}),\n",
       "  ToolMessage(content=\"It's 15 degrees Celsius and cloudy.\", name='get_weather', id='0f29b5a5-02a1-450f-97b2-437d8928556d', tool_call_id='call_8P9IuuwkIhpp8He3w314HnDB'),\n",
       "  AIMessage(content='The weather in Munich is currently 15 degrees Celsius and cloudy.', additional_kwargs={'refusal': None}, response_metadata={'token_usage': {'completion_tokens': 15, 'prompt_tokens': 113, 'total_tokens': 128, 'completion_tokens_details': {'accepted_prediction_tokens': 0, 'audio_tokens': 0, 'reasoning_tokens': 0, 'rejected_prediction_tokens': 0}, 'prompt_tokens_details': {'audio_tokens': 0, 'cached_tokens': 0}}, 'model_name': 'gpt-4o-mini-2024-07-18', 'system_fingerprint': 'fp_72ed7ab54c', 'finish_reason': 'stop', 'logprobs': None}, id='run-b66e327f-7f60-4788-a2f9-387b4e96778c-0', usage_metadata={'input_tokens': 113, 'output_tokens': 15, 'total_tokens': 128, 'input_token_details': {'audio': 0, 'cache_read': 0}, 'output_token_details': {'audio': 0, 'reasoning': 0}}),\n",
       "  AIMessage(content='Transferring back to supervisor_agent', additional_kwargs={}, response_metadata={}, name='weather_agent', id='8669ca1d-01af-4858-8f75-7cf190e105f4', tool_calls=[{'name': 'transfer_back_to_supervisor_agent', 'args': {}, 'id': 'aa9af196-469a-4c34-95d3-6e2b462af57e', 'type': 'tool_call'}]),\n",
       "  ToolMessage(content='Successfully transferred back to supervisor_agent', name='transfer_back_to_supervisor_agent', id='f0085b67-b5f9-4c92-8e49-10d0bd29ef95', tool_call_id='aa9af196-469a-4c34-95d3-6e2b462af57e'),\n",
       "  AIMessage(content='The weather in Munich is currently 15 degrees Celsius and cloudy. If you have any other questions, feel free to ask!', additional_kwargs={'refusal': None}, response_metadata={'token_usage': {'completion_tokens': 27, 'prompt_tokens': 199, 'total_tokens': 226, 'completion_tokens_details': {'accepted_prediction_tokens': 0, 'audio_tokens': 0, 'reasoning_tokens': 0, 'rejected_prediction_tokens': 0}, 'prompt_tokens_details': {'audio_tokens': 0, 'cached_tokens': 0}}, 'model_name': 'gpt-4o-mini-2024-07-18', 'system_fingerprint': 'fp_72ed7ab54c', 'finish_reason': 'stop', 'logprobs': None}, name='supervisor_agent', id='run-32bc0418-574f-45cf-8411-3ec34e2b1be2-0', usage_metadata={'input_tokens': 199, 'output_tokens': 27, 'total_tokens': 226, 'input_token_details': {'audio': 0, 'cache_read': 0}, 'output_token_details': {'audio': 0, 'reasoning': 0}})]}"
      ]
     },
     "execution_count": 30,
     "metadata": {},
     "output_type": "execute_result"
    }
   ],
   "source": [
    "supervisor_app.invoke(\n",
    "    {\"messages\": [HumanMessage(content=\"How is the weather in Munich?\")]}\n",
    ")\n"
   ]
  }
 ],
 "metadata": {
  "kernelspec": {
   "display_name": ".venv",
   "language": "python",
   "name": "python3"
  },
  "language_info": {
   "codemirror_mode": {
    "name": "ipython",
    "version": 3
   },
   "file_extension": ".py",
   "mimetype": "text/x-python",
   "name": "python",
   "nbconvert_exporter": "python",
   "pygments_lexer": "ipython3",
   "version": "3.11.0"
  }
 },
 "nbformat": 4,
 "nbformat_minor": 2
}
