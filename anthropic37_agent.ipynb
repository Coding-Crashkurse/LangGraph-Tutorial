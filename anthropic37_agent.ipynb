{
 "cells": [
  {
   "cell_type": "code",
   "execution_count": 1,
   "metadata": {},
   "outputs": [],
   "source": [
    "from langchain_anthropic.chat_models import ChatAnthropic"
   ]
  },
  {
   "cell_type": "code",
   "execution_count": 11,
   "metadata": {},
   "outputs": [
    {
     "name": "stderr",
     "output_type": "stream",
     "text": [
      "c:\\Users\\User\\Desktop\\LangGraph-Tutorial\\.venv\\Lib\\site-packages\\IPython\\core\\interactiveshell.py:3519: UserWarning: Parameters {'max_tokens', 'thinking'} should be specified explicitly. Instead they were passed in as part of `model_kwargs` parameter.\n",
      "  if await self.run_code(code, result, async_=asy):\n"
     ]
    }
   ],
   "source": [
    "llm = ChatAnthropic(model_name=\"claude-3-5-haiku-20241022\")\n",
    "llm_reasoning = ChatAnthropic(\n",
    "    model_name=\"claude-3-7-sonnet-latest\",\n",
    "    model_kwargs={\"max_tokens\": 20000, \"thinking\": {\"type\": \"enabled\", \"budget_tokens\": 1024}}\n",
    ")\n"
   ]
  },
  {
   "cell_type": "code",
   "execution_count": null,
   "metadata": {},
   "outputs": [
    {
     "data": {
      "text/plain": [
       "AIMessage(content=[{'signature': 'EuYBCkQYAiJA02hlmttIs9mEuuKMFClZ30wbeCo3jxFK+hCIBuy1n0Sy7tA/qDttOZFRbixznyZpVXmHzELB+90Uy5YhQUX2ABIMy+eWFPcC5PwjtlyYGgwAI+QfX9hXumkPFqkiMPDbZZe41kHRnUYIkVwi7rza93jbBB5GhYoczA0PBFR29z1BTIqpk8XSu002dFqM6CpQB1LtCMp+EBX70YXbAxwfJKc5RGaT8kXmHBFL+tgkasIN/HcRTHC42byhUKMWAhIIC6125UwEFrwgE6TcSCnwatP/Z6MsWTrHDNUA/uIvl+g=', 'thinking': 'This is a simple greeting from the user. I should respond with a friendly welcome and perhaps indicate my readiness to assist them with whatever they might need help with.', 'type': 'thinking'}, {'text': \"Hi there! It's nice to meet you. I'm an AI assistant ready to help with information, answer questions, or just chat. How can I assist you today?\", 'type': 'text'}], additional_kwargs={}, response_metadata={'id': 'msg_015SnLVmifU1nQcv3SM9XJVR', 'model': 'claude-3-7-sonnet-20250219', 'stop_reason': 'end_turn', 'stop_sequence': None, 'usage': {'cache_creation_input_tokens': 0, 'cache_read_input_tokens': 0, 'input_tokens': 37, 'output_tokens': 80}}, id='run-3e01d9d3-1173-47ac-b460-e6daa119caff-0', usage_metadata={'input_tokens': 37, 'output_tokens': 80, 'total_tokens': 117, 'input_token_details': {'cache_read': 0, 'cache_creation': 0}})"
      ]
     },
     "execution_count": 12,
     "metadata": {},
     "output_type": "execute_result"
    }
   ],
   "source": [
    "llm_reasoning.invoke(\"What is the root of 12\")"
   ]
  },
  {
   "cell_type": "code",
   "execution_count": 10,
   "metadata": {},
   "outputs": [
    {
     "name": "stdout",
     "output_type": "stream",
     "text": [
      "content=[{'signature': 'EuYBCkQYAiJA7Pjee8uGDRP8PIbJIiqakrnoFHDZwD46xB9UbmlegSd9QG4tLJAwUDT2LMCKsiuGPo0np04fj/bol4kjX/HP2hIMUChCePy5jfdo52fdGgyOunndQsI2rFPY1ukiMHFxQO4cC5ck59Yk+XYuXU2mcRkIoQq/cvMREHeWwbi6aUh7wn0k+ghNl9cn6ABPaSpQ/vvEe+FH3PMjXGKd8yuWD5HXqRn7DKcOu/LrbUUa7EmEhGU3Qu55eV0Y4GgPgGLxLmmnMi+j7Sk+8wftwJlNxKNfUDFU/6XkpDYo1C3Hji8=', 'thinking': \"The cube root of a number $n$ is a value $x$ such that $x^3 = n$. In this case, we need to find the value $x$ such that $x^3 = 50.653$.\\n\\nLet me compute this. I'll use numerical methods.\\n\\nFirst, let's get a rough estimate. The cube root of 50.653 is between the cube root of 27 (which is 3) and the cube root of 64 (which is 4), since $27 < 50.653 < 64$. So the cube root of 50.653 is between 3 and 4.\\n\\nLet's try to get a more accurate approximation. Since we know it's between 3 and 4, let's try $3.7$ first.\\n\\n$3.7^3 = 3.7 \\\\times 3.7 \\\\times 3.7 = 13.69 \\\\times 3.7 = 50.653$\\n\\nThat's correct! The cube root of 50.653 is 3.7.\\n\\nBut wait, I should double-check my calculation.\\n\\n$3.7 \\\\times 3.7 = 13.69$\\n$13.69 \\\\times 3.7 = 50.653$\\n\\nSo we get that $3.7^3 = 50.653$. This means that the cube root of 50.653 is 3.7.\\n\\nOh actually, let me triple-check this. \\n$3.7 \\\\times 3.7 = 13.69$\\n$13.69 \\\\times 3.7 = 50.653$\\n\\nActually, let me just use a calculator.\\n$3.7^3 = 50.653$\\n\\n$3.7 \\\\times 3.7 = 13.69$\\n$13.69 \\\\times 3.7 = 50.653$\\n\\nHmm, actually let me try a slightly different approach to be sure.\\n\\n$3.7^3 = (3.7)^2 \\\\times 3.7 = 13.69 \\\\times 3.7 = 50.653$\\n\\nSo it checks out.\\n\\nActually, one more time to be sure:\\n$3.7^2 = 3.7 \\\\times 3.7 = 13.69$\\n$3.7^3 = 3.7^2 \\\\times 3.7 = 13.69 \\\\times 3.7 = 50.653$\\n\\nSo the cube root of 50.653 is 3.7.\\n\\nActually, let me carefully check my calculation of $3.7^2$.\\n$3.7 \\\\times 3.7 = 3 \\\\times 3.7 + 0.7 \\\\times 3.7 = 11.1 + 2.59 = 13.69$\\n\\nAnd let me check my calculation of $13.69 \\\\times 3.7$.\\n$13.69 \\\\times 3.7 = 13.69 \\\\times 3 + 13.69 \\\\times 0.7 = 41.07 + 9.583 = 50.653$\\n\\nSo the cube root of 50.653 is 3.7.\\n\\nActually, let me try one more approach. Let's compute $(3.7)^3$, since we want to check that this equals $50.653$.\\n\\n$3.7^3 = 3.7 \\\\times 3.7 \\\\times 3.7$\\n\\n$3.7 \\\\times 3.7 = 13.69$, as we already computed.\\n\\n$13.69 \\\\times 3.7 = 10 \\\\times 3.7 + 3.69 \\\\times 3.7 = 37 + 3 \\\\times 3.7 + 0.69 \\\\times 3.7 = 37 + 11.1 + 2.553 = 48.1 + 2.553 = 50.653$\\n\\nSo we've confirmed that $3.7^3 = 50.653$, which means that the cube root of 50.653 is 3.7.\\n\\nLet's triple-check.\\n$3.7^2 = 3.7 \\\\times 3.7$\\n$= (3 + 0.7) \\\\times 3.7$\\n$= 3 \\\\times 3.7 + 0.7 \\\\times 3.7$\\n$= 11.1 + 0.7 \\\\times 3.7$\\n$= 11.1 + 0.7 \\\\times (3 + 0.7)$\\n$= 11.1 + 0.7 \\\\times 3 + 0.7 \\\\times 0.7$\\n$= 11.1 + 2.1 + 0.49$\\n$= 13.69$\\n\\n$3.7^3 = 3.7 \\\\times 3.7^2 = 3.7 \\\\times 13.69$\\n$= 3 \\\\times 13.69 + 0.7 \\\\times 13.69$\\n$= 41.07 + 0.7 \\\\times 13.69$\\n$= 41.07 + 0.7 \\\\times (13 + 0.69)$\\n$= 41.07 + 0.7 \\\\times 13 + 0.7 \\\\times 0.69$\\n$= 41.07 + 9.1 + 0.483$\\n$= 50.17 + 0.483$\\n$= 50.653$\\n\\nSo we've triple-checked that $3.7^3 = 50.653$, which means that the cube root of 50.653 is 3.7.\\n\\nActually, I think I made a mistake previously. Let me compute $0.7 \\\\times 13$ again.\\n$0.7 \\\\times 13 = 0.7 \\\\times 10 + 0.7 \\\\times 3 = 7 + 2.1 = 9.1$\\n\\nAnd let me compute $0.7 \\\\times 0.69$.\\n$0.7 \\\\times 0.69 = 0.7 \\\\times 0.7 - 0.7 \\\\times 0.01 = 0.49 - 0.007 = 0.483$\\n\\nAnd let me compute $41.07 + 9.1 + 0.483$.\\n$41.07 + 9.1 = 50.17$\\n$50.17 + 0.483 = 50.653$\\n\\nSo indeed $(3.7)^3 = 50.653$, and the cube root of 50.653 is 3.7.\", 'type': 'thinking'}, {'text': \"To find the cube root of 50.653, I need to determine the value of x where x³ = 50.653.\\n\\nLet me analyze this systematically:\\n\\nFirst, I'll find a rough estimate. Since 27 < 50.653 < 64, and:\\n- The cube root of 27 is 3\\n- The cube root of 64 is 4\\n\\nSo the cube root of 50.653 is between 3 and 4.\\n\\nLet me check if 3.7 could be the answer:\\n3.7² = 3.7 × 3.7 = 13.69\\n3.7³ = 13.69 × 3.7 = 50.653\\n\\nPerfect! I've verified that 3.7³ equals 50.653 exactly.\\n\\nTherefore, the cube root of 50.653 is 3.7.\", 'type': 'text'}] additional_kwargs={} response_metadata={'id': 'msg_01C3vSnZGzG1KP2HhLQBMkvX', 'model': 'claude-3-7-sonnet-20250219', 'stop_reason': 'end_turn', 'stop_sequence': None, 'usage': {'cache_creation_input_tokens': 0, 'cache_read_input_tokens': 0, 'input_tokens': 46, 'output_tokens': 1860}} id='run-47ee5651-29a8-40fc-a035-3276ea7aaf69-0' usage_metadata={'input_tokens': 46, 'output_tokens': 1860, 'total_tokens': 1906, 'input_token_details': {'cache_read': 0, 'cache_creation': 0}}\n"
     ]
    }
   ],
   "source": [
    "from langchain.chat_models import init_chat_model\n",
    "\n",
    "# Now pass your desired model and parameters to init_chat_model:\n",
    "llm = init_chat_model(\n",
    "    model=\"claude-3-7-sonnet-latest\",\n",
    "    max_tokens=20000,\n",
    "    thinking={\"type\": \"enabled\", \"budget_tokens\": 16000}\n",
    ")\n",
    "\n",
    "# Then invoke the LLM:\n",
    "response = llm.invoke(\"What is the cube root of 50.653?\")\n",
    "print(response)"
   ]
  }
 ],
 "metadata": {
  "kernelspec": {
   "display_name": ".venv",
   "language": "python",
   "name": "python3"
  },
  "language_info": {
   "codemirror_mode": {
    "name": "ipython",
    "version": 3
   },
   "file_extension": ".py",
   "mimetype": "text/x-python",
   "name": "python",
   "nbconvert_exporter": "python",
   "pygments_lexer": "ipython3",
   "version": "3.11.0"
  }
 },
 "nbformat": 4,
 "nbformat_minor": 2
}
