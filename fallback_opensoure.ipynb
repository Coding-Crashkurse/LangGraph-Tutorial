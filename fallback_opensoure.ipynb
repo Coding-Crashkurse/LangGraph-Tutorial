{
 "cells": [
  {
   "cell_type": "code",
   "execution_count": null,
   "metadata": {},
   "outputs": [],
   "source": [
    "from dotenv import load_dotenv\n",
    "\n",
    "load_dotenv()"
   ]
  },
  {
   "cell_type": "code",
   "execution_count": 2,
   "metadata": {},
   "outputs": [],
   "source": [
    "import time\n",
    "from typing_extensions import TypedDict\n",
    "\n",
    "# LangGraph & LLM-Imports\n",
    "from langgraph.graph import StateGraph, START, END\n",
    "from langchain_core.runnables.config import RunnableConfig\n",
    "from langchain_core.messages import HumanMessage\n",
    "\n",
    "# Modelle\n",
    "from langchain_openai import ChatOpenAI\n",
    "from langchain_ollama import ChatOllama\n",
    "\n",
    "class AgentState(TypedDict):\n",
    "    question: str\n",
    "    answer: str\n",
    "\n",
    "def call_model(state: AgentState, config: RunnableConfig) -> AgentState:\n",
    "    model_type = config[\"configurable\"].get(\"model_type\", \"openai\")\n",
    "    if model_type == \"ollama\":\n",
    "        print(\"Nutze Ollama (deepseek-r1:7b).\")\n",
    "        llm = ChatOllama(model=\"deepseek-r1:7b\", temperature=0)\n",
    "    else:\n",
    "        print(\"Nutze OpenAI (gpt-4o-mini).\")\n",
    "        llm = ChatOpenAI(model_name=\"gpt-4o-mini\", temperature=0)\n",
    "\n",
    "    messages = [HumanMessage(content=state[\"question\"])]\n",
    "    response = llm.invoke(messages)\n",
    "    state[\"answer\"] = response.content\n",
    "    return state\n",
    "\n",
    "workflow = StateGraph(AgentState)\n",
    "workflow.add_edge(START, \"agent\")\n",
    "workflow.add_node(\"agent\", call_model)\n",
    "workflow.add_edge(\"agent\", END)\n",
    "graph = workflow.compile()"
   ]
  },
  {
   "cell_type": "code",
   "execution_count": null,
   "metadata": {},
   "outputs": [],
   "source": [
    "ollama_config = {\n",
    "    \"configurable\": {\n",
    "        \"model_type\": \"ollama\"\n",
    "    }\n",
    "}\n",
    "graph.invoke({\"question\": \"What's the highest mountain in the world?\"}, ollama_config)"
   ]
  },
  {
   "cell_type": "code",
   "execution_count": 4,
   "metadata": {},
   "outputs": [],
   "source": [
    "import re\n",
    "\n",
    "class ModelSwitcher:\n",
    "    def __init__(self, graph: StateGraph):\n",
    "        self.graph = graph\n",
    "        self.last_openai_fail_time = None\n",
    "        self.openai_config = {\n",
    "            \"configurable\": {\n",
    "                \"model_type\": \"openai\",\n",
    "            }\n",
    "        }\n",
    "        self.fallback_config = {\n",
    "            \"configurable\": {\n",
    "                \"model_type\": \"ollama\",\n",
    "            }\n",
    "        }\n",
    "\n",
    "    def invoke(self, question: str, remove_think: bool = True) -> str:\n",
    "        if self._should_skip_openai():\n",
    "            return self._invoke_fallback(question, remove_think)\n",
    "\n",
    "        if question.lower() == \"force error\":\n",
    "            print(\"Forcierter Fehler mit ChatOpenAI wird ausgelöst.\")\n",
    "            self.last_openai_fail_time = time.time()\n",
    "            print(\"OpenAI wird für 5 Minuten deaktiviert. Fallback wird aufgerufen.\")\n",
    "            return self._invoke_fallback(question, remove_think)\n",
    "\n",
    "        try:\n",
    "            print(\"Versuche Aufruf mit OpenAI ...\")\n",
    "            state = {\"question\": question, \"answer\": \"\"}\n",
    "            result = self.graph.invoke(state, self.openai_config)\n",
    "            answer = result[\"answer\"]\n",
    "            return self._clean_if_needed(answer, remove_think)\n",
    "        except Exception as e:\n",
    "            print(\"Fehler mit OpenAI aufgetreten:\", e)\n",
    "            self.last_openai_fail_time = time.time()\n",
    "            print(\"OpenAI wird für 5 Minuten deaktiviert. Fallback wird aufgerufen.\")\n",
    "            return self._invoke_fallback(question, remove_think)\n",
    "\n",
    "    def _invoke_fallback(self, question: str, remove_think: bool) -> str:\n",
    "        print(\"Nutze Fallback (Ollama).\")\n",
    "        state = {\"question\": question, \"answer\": \"\"}\n",
    "        result = self.graph.invoke(state, self.fallback_config)\n",
    "        answer = result[\"answer\"]\n",
    "        return self._clean_if_needed(answer, remove_think)\n",
    "\n",
    "    def _should_skip_openai(self) -> bool:\n",
    "        if self.last_openai_fail_time is None:\n",
    "            return False\n",
    "        elapsed = time.time() - self.last_openai_fail_time\n",
    "        if elapsed < 300:\n",
    "            remaining = 300 - elapsed\n",
    "            print(f\"OpenAI ist noch im Cooldown. Wartezeit bis OpenAI wieder aktiv ist: {remaining:.2f} Sekunden.\")\n",
    "            return True\n",
    "        return False\n",
    "\n",
    "    def _clean_if_needed(self, text: str, remove_think: bool) -> str:\n",
    "        if not remove_think:\n",
    "            return text\n",
    "        return self._remove_thinking_tokens(text)\n",
    "\n",
    "    def _remove_thinking_tokens(self, text: str) -> str:\n",
    "        pattern = r\"<think>.*?</think>\"\n",
    "        text_no_think = re.sub(pattern, \"\", text, flags=re.DOTALL)\n",
    "        return text_no_think.lstrip(\"\\n\")"
   ]
  },
  {
   "cell_type": "code",
   "execution_count": 5,
   "metadata": {},
   "outputs": [],
   "source": [
    "model_switcher = ModelSwitcher(graph)"
   ]
  },
  {
   "cell_type": "code",
   "execution_count": null,
   "metadata": {},
   "outputs": [],
   "source": [
    "model_switcher.invoke(\"What's the highest mountain in the world?\")"
   ]
  },
  {
   "cell_type": "code",
   "execution_count": null,
   "metadata": {},
   "outputs": [],
   "source": [
    "model_switcher.invoke(\"force error\")"
   ]
  },
  {
   "cell_type": "code",
   "execution_count": null,
   "metadata": {},
   "outputs": [],
   "source": [
    "model_switcher.invoke(\"Which city is the capital of France?\")"
   ]
  },
  {
   "cell_type": "code",
   "execution_count": null,
   "metadata": {},
   "outputs": [],
   "source": [
    "model_switcher.invoke(\"Which city is the capital of France?\")"
   ]
  },
  {
   "cell_type": "code",
   "execution_count": null,
   "metadata": {},
   "outputs": [],
   "source": [
    "model_switcher.invoke(\"Which city is the capital of France?\", remove_think=False)"
   ]
  }
 ],
 "metadata": {
  "kernelspec": {
   "display_name": ".venv",
   "language": "python",
   "name": "python3"
  },
  "language_info": {
   "codemirror_mode": {
    "name": "ipython",
    "version": 3
   },
   "file_extension": ".py",
   "mimetype": "text/x-python",
   "name": "python",
   "nbconvert_exporter": "python",
   "pygments_lexer": "ipython3",
   "version": "3.11.0"
  }
 },
 "nbformat": 4,
 "nbformat_minor": 2
}
