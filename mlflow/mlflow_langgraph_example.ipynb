{
  "cells": [
    {
      "cell_type": "markdown",
      "id": "0fba057e",
      "metadata": {},
      "source": [
        "### Install/Import Dependencies\n",
        "Here we install or import the libraries needed. Adjust to match your environment.\n",
        "Make sure that `langchain-core`, `langgraph`, and `langchain_openai` are installed (or locally available)."
      ]
    },
    {
      "cell_type": "code",
      "execution_count": 4,
      "id": "51e6730a",
      "metadata": {
        "tags": []
      },
      "outputs": [
        {
          "data": {
            "text/plain": [
              "<Experiment: artifact_location='mlflow-artifacts:/1', creation_time=1742932410518, experiment_id='1', last_update_time=1742932410518, lifecycle_stage='active', name='LangGraph', tags={}>"
            ]
          },
          "execution_count": 4,
          "metadata": {},
          "output_type": "execute_result"
        }
      ],
      "source": [
        "import mlflow\n",
        "from typing import Literal\n",
        "from langchain_core.messages import AIMessage, ToolCall\n",
        "from langchain_core.outputs import ChatGeneration, ChatResult\n",
        "from langchain_core.tools import tool\n",
        "from langchain_openai import ChatOpenAI\n",
        "from langgraph.prebuilt import create_react_agent\n",
        "from dotenv import load_dotenv\n",
        "load_dotenv()\n",
        "\n",
        "mlflow.langchain.autolog()\n",
        "\n",
        "mlflow.set_tracking_uri(\"http://localhost:5000\")\n",
        "mlflow.set_experiment(\"LangGraph\")\n"
      ]
    },
    {
      "cell_type": "markdown",
      "id": "b3f57637",
      "metadata": {},
      "source": [
        "### Define our Tool & Graph\n",
        "Below is the code snippet provided in your request. We define a simple tool to get weather (with limited city options) and create a ReAct-style agent using LangGraph."
      ]
    },
    {
      "cell_type": "code",
      "execution_count": 5,
      "id": "a674fe47",
      "metadata": {
        "tags": []
      },
      "outputs": [],
      "source": [
        "@tool\n",
        "def get_weather(city: Literal[\"nyc\", \"sf\"]):\n",
        "    \"\"\"Use this to get weather information.\"\"\"\n",
        "    if city == \"nyc\":\n",
        "        return \"It might be cloudy in nyc\"\n",
        "    elif city == \"sf\":\n",
        "        return \"It's always sunny in sf\"\n",
        "\n",
        "# Instantiate the LLM\n",
        "llm = ChatOpenAI(model=\"gpt-4o-mini\")  # placeholder model name\n",
        "\n",
        "# Create the ReAct agent\n",
        "tools = [get_weather]\n",
        "graph = create_react_agent(llm, tools)\n"
      ]
    },
    {
      "cell_type": "markdown",
      "id": "8716eea8",
      "metadata": {},
      "source": [
        "### Invoke the Graph\n",
        "We now call `graph.invoke` with a user request about the weather in SF. "
      ]
    },
    {
      "cell_type": "code",
      "execution_count": 6,
      "id": "5d0631e3",
      "metadata": {
        "tags": []
      },
      "outputs": [
        {
          "name": "stdout",
          "output_type": "stream",
          "text": [
            "Agent response: {'messages': [HumanMessage(content='what is the weather in sf?', additional_kwargs={}, response_metadata={}, id='34f8ccb6-0314-4485-9532-e13e880e82e8'), AIMessage(content='', additional_kwargs={'tool_calls': [{'id': 'call_YAQaz2rUwYIIVUMThKJYEpEu', 'function': {'arguments': '{\"city\":\"sf\"}', 'name': 'get_weather'}, 'type': 'function'}], 'refusal': None}, response_metadata={'token_usage': {'completion_tokens': 15, 'prompt_tokens': 58, 'total_tokens': 73, 'completion_tokens_details': {'accepted_prediction_tokens': 0, 'audio_tokens': 0, 'reasoning_tokens': 0, 'rejected_prediction_tokens': 0}, 'prompt_tokens_details': {'audio_tokens': 0, 'cached_tokens': 0}}, 'model_name': 'gpt-4o-mini-2024-07-18', 'system_fingerprint': 'fp_27322b4e16', 'id': 'chatcmpl-BF4drrTQpp0Q7HuxUhNcsrReL6WKx', 'finish_reason': 'tool_calls', 'logprobs': None}, id='run-bb0becc1-6426-492a-9982-edcb0c1aa27b-0', tool_calls=[{'name': 'get_weather', 'args': {'city': 'sf'}, 'id': 'call_YAQaz2rUwYIIVUMThKJYEpEu', 'type': 'tool_call'}], usage_metadata={'input_tokens': 58, 'output_tokens': 15, 'total_tokens': 73, 'input_token_details': {'audio': 0, 'cache_read': 0}, 'output_token_details': {'audio': 0, 'reasoning': 0}}), ToolMessage(content=\"It's always sunny in sf\", name='get_weather', id='87ecddf1-4226-4ed3-bc37-aeeda1827c7b', tool_call_id='call_YAQaz2rUwYIIVUMThKJYEpEu'), AIMessage(content='The weather in San Francisco is always sunny!', additional_kwargs={'refusal': None}, response_metadata={'token_usage': {'completion_tokens': 11, 'prompt_tokens': 85, 'total_tokens': 96, 'completion_tokens_details': {'accepted_prediction_tokens': 0, 'audio_tokens': 0, 'reasoning_tokens': 0, 'rejected_prediction_tokens': 0}, 'prompt_tokens_details': {'audio_tokens': 0, 'cached_tokens': 0}}, 'model_name': 'gpt-4o-mini-2024-07-18', 'system_fingerprint': 'fp_27322b4e16', 'id': 'chatcmpl-BF4ds8oBRSWKV8rt6brM4ObFGFSkN', 'finish_reason': 'stop', 'logprobs': None}, id='run-3232c627-1e66-425d-bc01-577557cfcd7e-0', usage_metadata={'input_tokens': 85, 'output_tokens': 11, 'total_tokens': 96, 'input_token_details': {'audio': 0, 'cache_read': 0}, 'output_token_details': {'audio': 0, 'reasoning': 0}})]}\n"
          ]
        },
        {
          "data": {
            "text/html": [
              "\n",
              "<div>\n",
              "  <style scoped>\n",
              "  button {\n",
              "    border: none;\n",
              "    border-radius: 4px;\n",
              "    background-color: rgb(34, 114, 180);\n",
              "    font-family: -apple-system, \"system-ui\", \"Segoe UI\", Roboto, \"Helvetica Neue\", Arial;\n",
              "    font-size: 13px;\n",
              "    color: white;\n",
              "    margin-top: 8px;\n",
              "    margin-bottom: 8px;\n",
              "    padding: 8px 16px;\n",
              "    cursor: pointer;\n",
              "  }\n",
              "  button:hover {\n",
              "    background-color: rgb(66, 153, 224);\n",
              "  }\n",
              "  </style>\n",
              "  <button\n",
              "    onclick=\"\n",
              "        const display = this.nextElementSibling.style.display;\n",
              "        const isCollapsed = display === 'none';\n",
              "        this.nextElementSibling.style.display = isCollapsed ? null : 'none';\n",
              "\n",
              "        const verb = isCollapsed ? 'Collapse' : 'Expand';\n",
              "        this.innerText = `${verb} MLflow Trace`;\n",
              "    \"\n",
              "  >Collapse MLflow Trace</button>\n",
              "  <iframe\n",
              "    id=\"trace-renderer\"\n",
              "    style=\"width: 100%; height: 500px; border: none; resize: vertical;\"\n",
              "    src=\"http://localhost:5000/static-files/lib/notebook-trace-renderer/index.html?trace_id=8a5aea03de7a49038b3bcc940728ad3f&amp;experiment_id=1&amp;version=2.21.0\"\n",
              "  />\n",
              "</div>\n"
            ],
            "text/plain": [
              "Trace(request_id=8a5aea03de7a49038b3bcc940728ad3f)"
            ]
          },
          "metadata": {},
          "output_type": "display_data"
        }
      ],
      "source": [
        "result = graph.invoke({\n",
        "    \"messages\": [\n",
        "        {\"role\": \"user\", \"content\": \"what is the weather in sf?\"}\n",
        "    ]\n",
        "})\n",
        "print(\"Agent response:\", result)"
      ]
    },
    {
      "cell_type": "code",
      "execution_count": null,
      "id": "4f0ef46d",
      "metadata": {},
      "outputs": [],
      "source": [
        "https://www.mlflow.org/docs/latest/tracing/api/manual-instrumentation/"
      ]
    }
  ],
  "metadata": {
    "colab": {
      "name": "mlflow_langgraph_example.ipynb"
    },
    "kernelspec": {
      "display_name": ".venv",
      "language": "python",
      "name": "python3"
    },
    "language_info": {
      "codemirror_mode": {
        "name": "ipython",
        "version": 3
      },
      "file_extension": ".py",
      "mimetype": "text/x-python",
      "name": "python",
      "nbconvert_exporter": "python",
      "pygments_lexer": "ipython3",
      "version": "3.11.0"
    }
  },
  "nbformat": 4,
  "nbformat_minor": 5
}
