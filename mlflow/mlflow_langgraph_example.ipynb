{
  "cells": [
    {
      "cell_type": "markdown",
      "id": "0fba057e",
      "metadata": {},
      "source": [
        "### Install/Import Dependencies\n",
        "Here we install or import the libraries needed. Adjust to match your environment.\n",
        "Make sure that `langchain-core`, `langgraph`, and `langchain_openai` are installed (or locally available)."
      ]
    },
    {
      "cell_type": "code",
      "execution_count": 5,
      "id": "51e6730a",
      "metadata": {
        "tags": []
      },
      "outputs": [
        {
          "data": {
            "text/plain": [
              "<Experiment: artifact_location='mlflow-artifacts:/1', creation_time=1742932410518, experiment_id='1', last_update_time=1742932410518, lifecycle_stage='active', name='LangGraph', tags={}>"
            ]
          },
          "execution_count": 5,
          "metadata": {},
          "output_type": "execute_result"
        }
      ],
      "source": [
        "import mlflow\n",
        "from typing import Literal\n",
        "from langchain_core.messages import AIMessage, ToolCall\n",
        "from langchain_core.outputs import ChatGeneration, ChatResult\n",
        "from langchain_core.tools import tool\n",
        "from langchain_openai import ChatOpenAI\n",
        "from langgraph.prebuilt import create_react_agent\n",
        "from dotenv import load_dotenv\n",
        "load_dotenv()\n",
        "\n",
        "mlflow.langchain.autolog()\n",
        "\n",
        "mlflow.set_tracking_uri(\"http://localhost:5000\")\n",
        "mlflow.set_experiment(\"LangGraph\")\n"
      ]
    },
    {
      "cell_type": "markdown",
      "id": "b3f57637",
      "metadata": {},
      "source": [
        "### Define our Tool & Graph\n",
        "Below is the code snippet provided in your request. We define a simple tool to get weather (with limited city options) and create a ReAct-style agent using LangGraph."
      ]
    },
    {
      "cell_type": "code",
      "execution_count": 6,
      "id": "a674fe47",
      "metadata": {
        "tags": []
      },
      "outputs": [],
      "source": [
        "@tool\n",
        "def get_weather(city: Literal[\"nyc\", \"sf\"]):\n",
        "    \"\"\"Use this to get weather information.\"\"\"\n",
        "    if city == \"nyc\":\n",
        "        return \"It might be cloudy in nyc\"\n",
        "    elif city == \"sf\":\n",
        "        return \"It's always sunny in sf\"\n",
        "\n",
        "# Instantiate the LLM\n",
        "llm = ChatOpenAI(model=\"gpt-4o-mini\")  # placeholder model name\n",
        "\n",
        "# Create the ReAct agent\n",
        "tools = [get_weather]\n",
        "graph = create_react_agent(llm, tools)\n"
      ]
    },
    {
      "cell_type": "markdown",
      "id": "8716eea8",
      "metadata": {},
      "source": [
        "### Invoke the Graph\n",
        "We now call `graph.invoke` with a user request about the weather in SF. "
      ]
    },
    {
      "cell_type": "code",
      "execution_count": 7,
      "id": "5d0631e3",
      "metadata": {
        "tags": []
      },
      "outputs": [
        {
          "name": "stdout",
          "output_type": "stream",
          "text": [
            "Agent response: {'messages': [HumanMessage(content='what is the weather in sf?', additional_kwargs={}, response_metadata={}, id='81a232ed-b6f0-4d47-8f3d-0c70c17aa4d1'), AIMessage(content='', additional_kwargs={'tool_calls': [{'id': 'call_yok4TNqxoU2s6vHoCZqyo4Jf', 'function': {'arguments': '{\"city\":\"sf\"}', 'name': 'get_weather'}, 'type': 'function'}], 'refusal': None}, response_metadata={'token_usage': {'completion_tokens': 15, 'prompt_tokens': 58, 'total_tokens': 73, 'completion_tokens_details': {'accepted_prediction_tokens': 0, 'audio_tokens': 0, 'reasoning_tokens': 0, 'rejected_prediction_tokens': 0}, 'prompt_tokens_details': {'audio_tokens': 0, 'cached_tokens': 0}}, 'model_name': 'gpt-4o-mini-2024-07-18', 'system_fingerprint': 'fp_27322b4e16', 'id': 'chatcmpl-BF4ucn1Ex6HVdykOaITebDcCZw9jQ', 'finish_reason': 'tool_calls', 'logprobs': None}, id='run-aeccf54e-6c93-4b46-86b5-3c5f12efbfe7-0', tool_calls=[{'name': 'get_weather', 'args': {'city': 'sf'}, 'id': 'call_yok4TNqxoU2s6vHoCZqyo4Jf', 'type': 'tool_call'}], usage_metadata={'input_tokens': 58, 'output_tokens': 15, 'total_tokens': 73, 'input_token_details': {'audio': 0, 'cache_read': 0}, 'output_token_details': {'audio': 0, 'reasoning': 0}}), ToolMessage(content=\"It's always sunny in sf\", name='get_weather', id='a8767e92-3503-42e7-914f-8e6740be610b', tool_call_id='call_yok4TNqxoU2s6vHoCZqyo4Jf'), AIMessage(content='The weather in San Francisco is sunny!', additional_kwargs={'refusal': None}, response_metadata={'token_usage': {'completion_tokens': 10, 'prompt_tokens': 85, 'total_tokens': 95, 'completion_tokens_details': {'accepted_prediction_tokens': 0, 'audio_tokens': 0, 'reasoning_tokens': 0, 'rejected_prediction_tokens': 0}, 'prompt_tokens_details': {'audio_tokens': 0, 'cached_tokens': 0}}, 'model_name': 'gpt-4o-mini-2024-07-18', 'system_fingerprint': 'fp_27322b4e16', 'id': 'chatcmpl-BF4udE60FlEmnIF7MPBzGvFrjoPGr', 'finish_reason': 'stop', 'logprobs': None}, id='run-4e5c87bf-caa4-43d9-9a59-64dc59c5007e-0', usage_metadata={'input_tokens': 85, 'output_tokens': 10, 'total_tokens': 95, 'input_token_details': {'audio': 0, 'cache_read': 0}, 'output_token_details': {'audio': 0, 'reasoning': 0}})]}\n"
          ]
        },
        {
          "data": {
            "text/html": [
              "\n",
              "<div>\n",
              "  <style scoped>\n",
              "  button {\n",
              "    border: none;\n",
              "    border-radius: 4px;\n",
              "    background-color: rgb(34, 114, 180);\n",
              "    font-family: -apple-system, \"system-ui\", \"Segoe UI\", Roboto, \"Helvetica Neue\", Arial;\n",
              "    font-size: 13px;\n",
              "    color: white;\n",
              "    margin-top: 8px;\n",
              "    margin-bottom: 8px;\n",
              "    padding: 8px 16px;\n",
              "    cursor: pointer;\n",
              "  }\n",
              "  button:hover {\n",
              "    background-color: rgb(66, 153, 224);\n",
              "  }\n",
              "  </style>\n",
              "  <button\n",
              "    onclick=\"\n",
              "        const display = this.nextElementSibling.style.display;\n",
              "        const isCollapsed = display === 'none';\n",
              "        this.nextElementSibling.style.display = isCollapsed ? null : 'none';\n",
              "\n",
              "        const verb = isCollapsed ? 'Collapse' : 'Expand';\n",
              "        this.innerText = `${verb} MLflow Trace`;\n",
              "    \"\n",
              "  >Collapse MLflow Trace</button>\n",
              "  <iframe\n",
              "    id=\"trace-renderer\"\n",
              "    style=\"width: 100%; height: 500px; border: none; resize: vertical;\"\n",
              "    src=\"http://localhost:5000/static-files/lib/notebook-trace-renderer/index.html?trace_id=747be10c0e7245de8616e89df06d26da&amp;experiment_id=1&amp;version=2.21.0\"\n",
              "  />\n",
              "</div>\n"
            ],
            "text/plain": [
              "Trace(request_id=747be10c0e7245de8616e89df06d26da)"
            ]
          },
          "metadata": {},
          "output_type": "display_data"
        }
      ],
      "source": [
        "result = graph.invoke({\n",
        "    \"messages\": [\n",
        "        {\"role\": \"user\", \"content\": \"what is the weather in sf?\"}\n",
        "    ]\n",
        "})\n",
        "print(\"Agent response:\", result)"
      ]
    },
    {
      "cell_type": "code",
      "execution_count": null,
      "id": "4f0ef46d",
      "metadata": {},
      "outputs": [
        {
          "ename": "SyntaxError",
          "evalue": "invalid syntax (2375966683.py, line 1)",
          "output_type": "error",
          "traceback": [
            "\u001b[1;36m  Cell \u001b[1;32mIn[8], line 1\u001b[1;36m\u001b[0m\n\u001b[1;33m    https://www.mlflow.org/docs/latest/tracing/api/manual-instrumentation/\u001b[0m\n\u001b[1;37m          ^\u001b[0m\n\u001b[1;31mSyntaxError\u001b[0m\u001b[1;31m:\u001b[0m invalid syntax\n"
          ]
        },
        {
          "ename": "",
          "evalue": "",
          "output_type": "error",
          "traceback": [
            "\u001b[1;31mThe Kernel crashed while executing code in the current cell or a previous cell. \n",
            "\u001b[1;31mPlease review the code in the cell(s) to identify a possible cause of the failure. \n",
            "\u001b[1;31mClick <a href='https://aka.ms/vscodeJupyterKernelCrash'>here</a> for more info. \n",
            "\u001b[1;31mView Jupyter <a href='command:jupyter.viewOutput'>log</a> for further details."
          ]
        }
      ],
      "source": [
        "https://www.mlflow.org/docs/latest/tracing/api/manual-instrumentation/"
      ]
    }
  ],
  "metadata": {
    "colab": {
      "name": "mlflow_langgraph_example.ipynb"
    },
    "kernelspec": {
      "display_name": ".venv",
      "language": "python",
      "name": "python3"
    },
    "language_info": {
      "codemirror_mode": {
        "name": "ipython",
        "version": 3
      },
      "file_extension": ".py",
      "mimetype": "text/x-python",
      "name": "python",
      "nbconvert_exporter": "python",
      "pygments_lexer": "ipython3",
      "version": "3.11.0"
    }
  },
  "nbformat": 4,
  "nbformat_minor": 5
}
