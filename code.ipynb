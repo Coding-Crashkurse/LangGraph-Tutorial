{
 "cells": [
  {
   "cell_type": "code",
   "execution_count": 1,
   "metadata": {},
   "outputs": [],
   "source": [
    "def read_code_from_file(file_path: str) -> str:\n",
    "    with open(file_path, \"r\") as file:\n",
    "        code = file.read()\n",
    "    return code\n",
    "\n",
    "\n",
    "def write_code_to_file(file_path: str, code: str):\n",
    "    with open(file_path, \"w\") as file:\n",
    "        file.write(code)"
   ]
  },
  {
   "cell_type": "code",
   "execution_count": 2,
   "metadata": {},
   "outputs": [],
   "source": [
    "from typing import Annotated\n",
    "from langchain_experimental.utilities import PythonREPL\n",
    "from langchain_core.tools import tool\n",
    "\n",
    "repl = PythonREPL()\n",
    "\n",
    "\n",
    "@tool\n",
    "def python_repl(code: Annotated[str, \"filename to read the code from\"]):\n",
    "    \"\"\"Use this to execute python code read from a file. If you want to see the output of a value,\n",
    "    Make sure that you read the code from correctly\n",
    "    you should print it out with `print(...)`. This is visible to the user.\"\"\"\n",
    "\n",
    "    try:\n",
    "        result = repl.run(code)\n",
    "        print(\"RESULT CODE EXECUTION:\", result)\n",
    "    except BaseException as e:\n",
    "        return f\"Failed to execute. Error: {repr(e)}\"\n",
    "    return f\"Executed:\\n```python\\n{code}\\n```\\nStdout: {result}\""
   ]
  },
  {
   "cell_type": "code",
   "execution_count": 3,
   "metadata": {},
   "outputs": [],
   "source": [
    "from langchain_openai import ChatOpenAI\n",
    "from langchain_core.messages import HumanMessage, SystemMessage\n",
    "\n",
    "\n",
    "model = ChatOpenAI()\n",
    "model_with_tools = model.bind_tools([python_repl])"
   ]
  },
  {
   "cell_type": "code",
   "execution_count": 4,
   "metadata": {},
   "outputs": [],
   "source": [
    "messages = [\n",
    "    SystemMessage(\n",
    "        content=\"\"\" You have got the task to execute code. Use the pyhon_repl tool to execute it.\n",
    "        If the code produced an error just return 'False'. If it worked, return 'True'\"\"\"\n",
    "    ),\n",
    "    HumanMessage(content=\"testscript.py\"),\n",
    "]\n",
    "\n",
    "ai_msg = model_with_tools.invoke(messages)\n",
    "messages.append(ai_msg)"
   ]
  },
  {
   "cell_type": "code",
   "execution_count": 5,
   "metadata": {},
   "outputs": [
    {
     "data": {
      "text/plain": [
       "[SystemMessage(content=\" You have got the task to execute code. Use the pyhon_repl tool to execute it.\\n        If the code produced an error just return 'False'. If it worked, return 'True'\"),\n",
       " HumanMessage(content='testscript.py'),\n",
       " AIMessage(content='', additional_kwargs={'tool_calls': [{'id': 'call_SfN2Z3lYMHbV74L9mkIEhUyS', 'function': {'arguments': '{\"code\":\"with open(\\'testscript.py\\', \\'r\\') as file:\\\\n    script = file.read()\\\\n    exec(script)\"}', 'name': 'python_repl'}, 'type': 'function'}]}, response_metadata={'token_usage': {'completion_tokens': 39, 'prompt_tokens': 152, 'total_tokens': 191}, 'model_name': 'gpt-3.5-turbo', 'system_fingerprint': None, 'finish_reason': 'tool_calls', 'logprobs': None}, id='run-844a0f06-cab9-41f6-9983-2f351598a4e2-0', tool_calls=[{'name': 'python_repl', 'args': {'code': \"with open('testscript.py', 'r') as file:\\n    script = file.read()\\n    exec(script)\"}, 'id': 'call_SfN2Z3lYMHbV74L9mkIEhUyS'}])]"
      ]
     },
     "execution_count": 5,
     "metadata": {},
     "output_type": "execute_result"
    }
   ],
   "source": [
    "messages"
   ]
  },
  {
   "cell_type": "code",
   "execution_count": 6,
   "metadata": {},
   "outputs": [
    {
     "name": "stderr",
     "output_type": "stream",
     "text": [
      "Python REPL can execute arbitrary code. Use with caution.\n"
     ]
    },
    {
     "name": "stdout",
     "output_type": "stream",
     "text": [
      "RESULT CODE EXECUTION: TypeError(\"unsupported operand type(s) for +: 'int' and 'str'\")\n"
     ]
    },
    {
     "data": {
      "text/plain": [
       "AIMessage(content='False', response_metadata={'token_usage': {'completion_tokens': 2, 'prompt_tokens': 252, 'total_tokens': 254}, 'model_name': 'gpt-3.5-turbo', 'system_fingerprint': None, 'finish_reason': 'stop', 'logprobs': None}, id='run-0f6f3d0f-5e72-43ce-ae28-92e93d46c74f-0')"
      ]
     },
     "execution_count": 6,
     "metadata": {},
     "output_type": "execute_result"
    }
   ],
   "source": [
    "from langchain_core.messages import HumanMessage, ToolMessage\n",
    "\n",
    "for tool_call in ai_msg.tool_calls:\n",
    "    selected_tool = {\"python_repl\": python_repl}[tool_call[\"name\"].lower()]\n",
    "    tool_output = selected_tool.invoke(tool_call[\"args\"])\n",
    "    messages.append(ToolMessage(tool_output, tool_call_id=tool_call[\"id\"]))\n",
    "\n",
    "model_with_tools.invoke(messages)"
   ]
  },
  {
   "cell_type": "markdown",
   "metadata": {},
   "source": [
    "### Working with Agents"
   ]
  },
  {
   "cell_type": "code",
   "execution_count": 7,
   "metadata": {},
   "outputs": [],
   "source": [
    "from typing import TypedDict\n",
    "\n",
    "\n",
    "class AgentState(TypedDict):\n",
    "    message: str\n",
    "    error: bool\n",
    "    error_message: str\n",
    "    file_path: str\n",
    "    code: str\n",
    "    iterations: int"
   ]
  },
  {
   "cell_type": "code",
   "execution_count": 8,
   "metadata": {},
   "outputs": [],
   "source": [
    "def identify_filepath(state: AgentState):\n",
    "    message = state[\"message\"]\n",
    "    model = ChatOpenAI()\n",
    "    messages = [\n",
    "        SystemMessage(\n",
    "            content=\"\"\"Your task is to evaluate the userinput and extract the filename he provided.\n",
    "                              ONLY return the last filename, nothing else!\"\"\"\n",
    "        ),\n",
    "        HumanMessage(content=message),\n",
    "    ]\n",
    "    result = model.invoke(messages)\n",
    "    state[\"file_path\"] = result.content\n",
    "    return state\n",
    "\n",
    "\n",
    "def execute_code_with_model(state: AgentState):\n",
    "\n",
    "    code = read_code_from_file(state[\"file_path\"])\n",
    "\n",
    "    model = ChatOpenAI()\n",
    "    model_with_tools = model.bind_tools([python_repl])\n",
    "\n",
    "    messages = [\n",
    "        SystemMessage(\n",
    "            content=\"\"\" You have got the task to execute code. Use the python_repl tool to execute it. I will a message and your task is to detect if it was successfully run or produced an error.\n",
    "            If the code produced an error just return 'True'. If it was sucessfully executed, return 'False'\"\"\"\n",
    "        ),\n",
    "        HumanMessage(content=code),\n",
    "    ]\n",
    "\n",
    "    ai_msg = model_with_tools.invoke(messages)\n",
    "    messages.append(ai_msg)\n",
    "\n",
    "    for tool_call in ai_msg.tool_calls:\n",
    "        selected_tool = {\"python_repl\": python_repl}[tool_call[\"name\"].lower()]\n",
    "        tool_output = selected_tool.invoke(tool_call[\"args\"])\n",
    "        state[\"error_message\"] = tool_output\n",
    "        messages.append(ToolMessage(tool_output, tool_call_id=tool_call[\"id\"]))\n",
    "\n",
    "    result = model_with_tools.invoke(messages)\n",
    "    print(\"EVALUATION RESULT:\", result)\n",
    "    state[\"error\"] = result.content\n",
    "    return state\n",
    "\n",
    "\n",
    "def rewrite_code(state: AgentState):\n",
    "\n",
    "    code = state[\"code\"]\n",
    "    error = state[\"error_message\"]\n",
    "    state[\"iterations\"] += 1\n",
    "    model = ChatOpenAI()\n",
    "    messages = [\n",
    "        SystemMessage(\n",
    "            content=\"You can to analyze the following code and error provided in the usermessage. Your task is to fix that code and provide the user the correct new code. VERY IMPORTANT: ONLY RETURN THE UPDATED CODE, NOTHING ELSE! Dont use a markdown style, just the code as Text\"\n",
    "        ),\n",
    "        HumanMessage(content=f\"Code: {code} | Error: {error}\"),\n",
    "    ]\n",
    "    ai_msg = model.invoke(messages)\n",
    "    print(\"NEW SUGGESTED CODE:\", ai_msg.content)\n",
    "    write_code_to_file(file_path=f'{state[\"file_path\"]}', code=ai_msg.content)\n",
    "    state[\"code\"] = ai_msg.content\n",
    "    return state\n",
    "\n",
    "\n",
    "def next_step(state: AgentState):\n",
    "    if state[\"iterations\"] > 3:\n",
    "        print(\"Max Iterations done.... Exit Agent\")\n",
    "        return \"max_iterations\"\n",
    "    if state[\"error\"] == \"True\":\n",
    "        print(f\"Error in {state['file_path']}. {state['iterations']} tries done\")\n",
    "        return \"error\"\n",
    "    if state[\"error\"] == \"False\":\n",
    "        print(\n",
    "            f\"Code was probably fixed... check out {state['file_path']} if it is correct\"\n",
    "        )\n",
    "        return \"ok\""
   ]
  },
  {
   "cell_type": "code",
   "execution_count": 9,
   "metadata": {},
   "outputs": [],
   "source": [
    "from langgraph.graph import END, StateGraph\n",
    "\n",
    "workflow = StateGraph(AgentState)\n",
    "\n",
    "workflow.add_node(\"identify_filepath\", identify_filepath)\n",
    "workflow.add_node(\"execute_code_with_model\", execute_code_with_model)\n",
    "workflow.add_node(\"rewrite_code\", rewrite_code)\n",
    "\n",
    "workflow.set_entry_point(\"identify_filepath\")\n",
    "workflow.add_edge(\"identify_filepath\", \"execute_code_with_model\")\n",
    "\n",
    "workflow.add_conditional_edges(\n",
    "    \"execute_code_with_model\",\n",
    "    next_step,\n",
    "    {\"error\": \"rewrite_code\", \"ok\": END, \"max_iterations\": END},\n",
    ")\n",
    "workflow.add_edge(\"rewrite_code\", \"execute_code_with_model\")\n",
    "app = workflow.compile()"
   ]
  },
  {
   "cell_type": "code",
   "execution_count": 10,
   "metadata": {},
   "outputs": [
    {
     "data": {
      "image/jpeg": "[encoded data removed]",
      "text/plain": [
       "<IPython.core.display.Image object>"
      ]
     },
     "metadata": {},
     "output_type": "display_data"
    }
   ],
   "source": [
    "from IPython.display import Image, display\n",
    "\n",
    "display(Image(app.get_graph().draw_mermaid_png()))"
   ]
  },
  {
   "cell_type": "code",
   "execution_count": 11,
   "metadata": {},
   "outputs": [
    {
     "name": "stdout",
     "output_type": "stream",
     "text": [
      "RESULT CODE EXECUTION: TypeError(\"unsupported operand type(s) for +: 'int' and 'str'\")\n",
      "EVALUATION RESULT: content='True' response_metadata={'token_usage': {'completion_tokens': 2, 'prompt_tokens': 269, 'total_tokens': 271}, 'model_name': 'gpt-3.5-turbo', 'system_fingerprint': None, 'finish_reason': 'stop', 'logprobs': None} id='run-cfd8e8e9-443c-49cd-a816-22eab701c2f5-0'\n",
      "Error in testscript.py. 1 tries done\n",
      "NEW SUGGESTED CODE: x = 2\n",
      "y = \"test\"\n",
      "print(str(x) + y)\n",
      "RESULT CODE EXECUTION: 2test\n",
      "\n",
      "EVALUATION RESULT: content='False' response_metadata={'token_usage': {'completion_tokens': 2, 'prompt_tokens': 261, 'total_tokens': 263}, 'model_name': 'gpt-3.5-turbo', 'system_fingerprint': None, 'finish_reason': 'stop', 'logprobs': None} id='run-9da5c826-9d64-40ee-be44-d4c38af84ace-0'\n",
      "Code was probably fixed... check out testscript.py if it is correct\n"
     ]
    },
    {
     "data": {
      "text/plain": [
       "{'message': 'Please analyze the testscript.py file',\n",
       " 'error': 'False',\n",
       " 'error_message': 'Executed:\\n```python\\nx = 2\\ny = \"test\"\\nprint(str(x) + y)\\n```\\nStdout: 2test\\n',\n",
       " 'file_path': 'testscript.py',\n",
       " 'code': 'x = 2\\ny = \"test\"\\nprint(str(x) + y)',\n",
       " 'iterations': 2}"
      ]
     },
     "execution_count": 11,
     "metadata": {},
     "output_type": "execute_result"
    }
   ],
   "source": [
    "app.invoke({\"message\": \"Please analyze the testscript.py file\", \"iterations\": 1})"
   ]
  }
 ],
 "metadata": {
  "kernelspec": {
   "display_name": ".venv",
   "language": "python",
   "name": "python3"
  },
  "language_info": {
   "codemirror_mode": {
    "name": "ipython",
    "version": 3
   },
   "file_extension": ".py",
   "mimetype": "text/x-python",
   "name": "python",
   "nbconvert_exporter": "python",
   "pygments_lexer": "ipython3",
   "version": "3.11.0"
  }
 },
 "nbformat": 4,
 "nbformat_minor": 2
}
