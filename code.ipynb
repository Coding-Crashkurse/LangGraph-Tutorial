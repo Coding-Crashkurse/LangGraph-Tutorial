{
 "cells": [
  {
   "cell_type": "code",
   "execution_count": null,
   "metadata": {},
   "outputs": [],
   "source": [
    "def read_code_from_file(file_path: str) -> str:\n",
    "    with open(file_path, 'r') as file:\n",
    "        code = file.read()\n",
    "    return code\n",
    "\n",
    "def write_code_to_file(file_path: str, code: str):\n",
    "    with open(file_path, 'w') as file:\n",
    "        file.write(code)"
   ]
  },
  {
   "cell_type": "code",
   "execution_count": null,
   "metadata": {},
   "outputs": [],
   "source": [
    "from typing import Annotated\n",
    "from langchain_experimental.utilities import PythonREPL\n",
    "from langchain_core.tools import tool\n",
    "\n",
    "repl = PythonREPL()\n",
    "\n",
    "@tool\n",
    "def python_repl(\n",
    "    code: Annotated[str, \"filename to read the code from\"]\n",
    "):\n",
    "    \"\"\"Use this to execute python code read from a file. If you want to see the output of a value,\n",
    "    you should print it out with `print(...)`. This is visible to the user.\"\"\"\n",
    "\n",
    "    try:\n",
    "        result = repl.run(code)\n",
    "        print(\"RESULT CODE EXECUTION:\", result)\n",
    "    except BaseException as e:\n",
    "        return f\"Failed to execute. Error: {repr(e)}\"\n",
    "    return f\"Successfully executed:\\n```python\\n{code}\\n```\\nStdout: {result}\"\n",
    "\n"
   ]
  },
  {
   "cell_type": "code",
   "execution_count": null,
   "metadata": {},
   "outputs": [],
   "source": [
    "from langchain_openai import ChatOpenAI\n",
    "from langchain_core.messages import HumanMessage, SystemMessage\n",
    "\n",
    "\n",
    "model = ChatOpenAI()\n",
    "model_with_tools = model.bind_tools([python_repl])"
   ]
  },
  {
   "cell_type": "code",
   "execution_count": null,
   "metadata": {},
   "outputs": [],
   "source": [
    "messages = [\n",
    "    SystemMessage(content=\"\"\" You have got the task to execute code. Use the pyhon_repl tool to execute it.\n",
    "        If the code produced an error just return 'False'. If it worked, return 'True'\"\"\"),\n",
    "    HumanMessage(content=\"testscript.py\")\n",
    "    ]\n",
    "\n",
    "ai_msg = model_with_tools.invoke(messages)\n",
    "messages.append(ai_msg)"
   ]
  },
  {
   "cell_type": "code",
   "execution_count": null,
   "metadata": {},
   "outputs": [],
   "source": [
    "from langchain_core.messages import HumanMessage, ToolMessage\n",
    "\n",
    "for tool_call in ai_msg.tool_calls:\n",
    "    selected_tool = {\"python_repl\": python_repl}[tool_call[\"name\"].lower()]\n",
    "    tool_output = selected_tool.invoke(tool_call[\"args\"])\n",
    "    messages.append(ToolMessage(tool_output, tool_call_id=tool_call[\"id\"]))\n",
    "\n",
    "model_with_tools.invoke(messages)"
   ]
  },
  {
   "cell_type": "markdown",
   "metadata": {},
   "source": [
    "### Working with Agents"
   ]
  },
  {
   "cell_type": "code",
   "execution_count": null,
   "metadata": {},
   "outputs": [],
   "source": [
    "from typing import TypedDict\n",
    "\n",
    "class AgentState(TypedDict):\n",
    "    message: str\n",
    "    error: bool\n",
    "    error_message: str\n",
    "    file_path: str\n",
    "    code: str\n",
    "    iterations: int"
   ]
  },
  {
   "cell_type": "code",
   "execution_count": null,
   "metadata": {},
   "outputs": [],
   "source": [
    "def identify_filepath(state: AgentState):\n",
    "    message = state[\"message\"]\n",
    "    model = ChatOpenAI()\n",
    "    messages = [SystemMessage(content=\"\"\"Your task is to evaluate the userinput and extract the filename he provided.\n",
    "                              ONLY return the last filename, nothing else!\"\"\"),\n",
    "    HumanMessage(content=message)]\n",
    "    result = model.invoke(messages)\n",
    "    state[\"file_path\"] = result.content\n",
    "    print(f\"STATE bei Identifier filepath: {state}\")\n",
    "    return state\n",
    "\n",
    "\n",
    "def execute_code_with_model(state: AgentState):\n",
    "\n",
    "    code = read_code_from_file(state[\"file_path\"])\n",
    "    print(\"CODE:\", code)\n",
    "\n",
    "    model = ChatOpenAI()\n",
    "    model_with_tools = model.bind_tools([python_repl])\n",
    "\n",
    "    messages = [\n",
    "        SystemMessage(content=\"\"\" You have got the task to execute code. Use the python_repl tool to execute it.\n",
    "            If the code produced an error just return 'True'. If it worked, return 'False'\"\"\"),\n",
    "        HumanMessage(content=code)\n",
    "    ]\n",
    "\n",
    "    ai_msg = model_with_tools.invoke(messages)\n",
    "    messages.append(ai_msg)\n",
    "\n",
    "    for tool_call in ai_msg.tool_calls:\n",
    "        selected_tool = {\"python_repl\": python_repl}[tool_call[\"name\"].lower()]\n",
    "        tool_output = selected_tool.invoke(tool_call[\"args\"])\n",
    "        state[\"code\"] = tool_output\n",
    "        messages.append(ToolMessage(tool_output, tool_call_id=tool_call[\"id\"]))\n",
    "\n",
    "    result = model_with_tools.invoke(messages)\n",
    "    print(\"EXECUTE_RESULT\", result.content)\n",
    "    state[\"error\"] = result.content\n",
    "    print(f\"STATE bei read_code_from_file: {state}\")\n",
    "    return state\n",
    "\n",
    "\n",
    "def rewrite_code(state: AgentState):\n",
    "\n",
    "    code = state[\"code\"]\n",
    "    state[\"iterations\"] += 1\n",
    "    model = ChatOpenAI()\n",
    "    messages = [\n",
    "        SystemMessage(content=\"You can to analyze the following code provided in the usermessage. Your task is to fix that code and provide the user the correct new code.\"),\n",
    "        HumanMessage(content=code)\n",
    "    ]\n",
    "    ai_msg = model.invoke(messages)\n",
    "    write_code_to_file(file_path=f'{state[\"file_path\"]}', code=ai_msg.content)\n",
    "    state[\"code\"] = ai_msg.content\n",
    "    print(f\"STATE bei rewrite_code: {state}\")\n",
    "    return state\n",
    "\n",
    "\n",
    "def next_step(state: AgentState):\n",
    "    if bool(state[\"error\"]) == True:\n",
    "        return \"error\"\n",
    "    elif state[\"iterations\"] > 5:\n",
    "        print(\"Max Iterations done.... Exit Agent\")\n",
    "        return \"max_iterations\"\n",
    "    else:\n",
    "        return \"ok\""
   ]
  },
  {
   "cell_type": "code",
   "execution_count": null,
   "metadata": {},
   "outputs": [],
   "source": [
    "from langgraph.graph import END, StateGraph\n",
    "\n",
    "workflow = StateGraph(AgentState)\n",
    "\n",
    "workflow.add_node(\"identify_filepath\", identify_filepath)\n",
    "workflow.add_node(\"execute_code_with_model\", execute_code_with_model)\n",
    "workflow.add_node(\"rewrite_code\", rewrite_code)\n",
    "\n",
    "workflow.set_entry_point(\"identify_filepath\")\n",
    "workflow.add_edge(\"identify_filepath\", \"execute_code_with_model\")\n",
    "\n",
    "workflow.add_conditional_edges(\n",
    "    \"execute_code_with_model\",\n",
    "    next_step,\n",
    "    {\n",
    "        \"error\": \"rewrite_code\",\n",
    "        \"ok\": END,\n",
    "        \"max_iterations\": END\n",
    "    },\n",
    ")\n",
    "workflow.add_edge(\"rewrite_code\", \"execute_code_with_model\")\n",
    "app = workflow.compile()"
   ]
  },
  {
   "cell_type": "code",
   "execution_count": null,
   "metadata": {},
   "outputs": [],
   "source": [
    "from IPython.display import Image, display\n",
    "\n",
    "display(Image(app.get_graph().draw_mermaid_png()))"
   ]
  },
  {
   "cell_type": "code",
   "execution_count": null,
   "metadata": {},
   "outputs": [],
   "source": [
    "app.invoke({\"message\": \"Please analyze the testscript.py file\", \"error\": \"\", \"error_message\": \"\", \"file_path\": \"\", \"code\": \"\", \"iterations\": 0})"
   ]
  }
 ],
 "metadata": {
  "kernelspec": {
   "display_name": ".venv",
   "language": "python",
   "name": "python3"
  },
  "language_info": {
   "codemirror_mode": {
    "name": "ipython",
    "version": 3
   },
   "file_extension": ".py",
   "mimetype": "text/x-python",
   "name": "python",
   "nbconvert_exporter": "python",
   "pygments_lexer": "ipython3",
   "version": "3.11.0"
  }
 },
 "nbformat": 4,
 "nbformat_minor": 2
}
