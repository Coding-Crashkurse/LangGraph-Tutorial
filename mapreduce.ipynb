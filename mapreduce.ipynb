{
 "cells": [
  {
   "cell_type": "code",
   "execution_count": null,
   "metadata": {},
   "outputs": [],
   "source": [
    "from dotenv import load_dotenv\n",
    "\n",
    "load_dotenv()"
   ]
  },
  {
   "cell_type": "code",
   "execution_count": null,
   "metadata": {},
   "outputs": [],
   "source": [
    "from typing import Annotated, TypedDict\n",
    "import operator\n",
    "from langgraph.constants import Send\n",
    "from langgraph.graph import END, START, StateGraph\n",
    "\n",
    "class OverallState(TypedDict):\n",
    "    subjects: list[str]\n",
    "    jokes: Annotated[list[str], operator.add]\n",
    "\n",
    "def continue_to_jokes(state: OverallState):\n",
    "    return [Send(\"generate_joke\", {\"subject\": s}) for s in state['subjects']]"
   ]
  },
  {
   "cell_type": "code",
   "execution_count": null,
   "metadata": {},
   "outputs": [],
   "source": [
    "# Create the state graph builder\n",
    "builder = StateGraph(OverallState)\n",
    "\n",
    "# Add a node for generating jokes\n",
    "builder.add_node(\"generate_joke\", lambda state: {\"jokes\": [f\"Joke about {state['subject']}\"]})\n",
    "\n",
    "# Add conditional edges from START to continue_to_jokes function\n",
    "builder.add_conditional_edges(START, continue_to_jokes)\n",
    "\n",
    "# Add an edge from \"generate_joke\" to END\n",
    "builder.add_edge(\"generate_joke\", END)\n",
    "\n",
    "# Compile the graph\n",
    "graph = builder.compile()\n",
    "\n",
    "# Invoke the graph with initial state\n",
    "result = graph.invoke({\"subjects\": [\"cats\", \"dogs\"]})\n",
    "\n",
    "# Output the result\n",
    "print(result)"
   ]
  }
 ],
 "metadata": {
  "kernelspec": {
   "display_name": ".venv",
   "language": "python",
   "name": "python3"
  },
  "language_info": {
   "codemirror_mode": {
    "name": "ipython",
    "version": 3
   },
   "file_extension": ".py",
   "mimetype": "text/x-python",
   "name": "python",
   "nbconvert_exporter": "python",
   "pygments_lexer": "ipython3",
   "version": "3.11.0"
  }
 },
 "nbformat": 4,
 "nbformat_minor": 2
}
